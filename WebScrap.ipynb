{
 "cells": [
  {
   "cell_type": "code",
   "execution_count": 1,
   "id": "d8d89e3c-7da1-4a30-a973-119827fbaa61",
   "metadata": {},
   "outputs": [
    {
     "name": "stdin",
     "output_type": "stream",
     "text": [
      "Enter the URL :  https://books.toscrape.com/catalogue/category/books/science_22/index.html\n"
     ]
    },
    {
     "name": "stdout",
     "output_type": "stream",
     "text": [
      "Data has been saved to product_data.csv\n"
     ]
    }
   ],
   "source": [
    "import requests\n",
    "from bs4 import BeautifulSoup\n",
    "import pandas as pd\n",
    "\n",
    "# URL of the e-commerce site to scrape\n",
    "url = input('Enter the URL : ')\n",
    "\n",
    "# Send an HTTP request to the website\n",
    "response = requests.get(url)\n",
    "soup = BeautifulSoup(response.content, 'html.parser')\n",
    "\n",
    "# Find product listings (for this website, products are within 'article' tags with class 'product_pod')\n",
    "products = soup.find_all('article', class_='product_pod')\n",
    "\n",
    "# Prepare lists to store the scraped data\n",
    "product_names = []\n",
    "prices = []\n",
    "availability = []\n",
    "\n",
    "# Loop through each product and extract details\n",
    "for product in products:\n",
    "    # Get the product name\n",
    "    name = product.h3.a['title']\n",
    "    product_names.append(name)\n",
    "\n",
    "    # Get the product price\n",
    "    price = product.find('p', class_='price_color').text\n",
    "    prices.append(price)\n",
    "\n",
    "    # Get the availability status\n",
    "    availability_status = product.find('p', class_='instock availability').text.strip()\n",
    "    availability.append(availability_status)\n",
    "\n",
    "# Create a DataFrame to display data in tabular format\n",
    "data = {\n",
    "    'Product Name': product_names,\n",
    "    'Price': prices,\n",
    "    'Availability': availability\n",
    "}\n",
    "\n",
    "df = pd.DataFrame(data)\n",
    "\n",
    "# Save the DataFrame to a CSV file\n",
    "df.to_csv('product_data.csv', index=False)\n",
    "\n",
    "print('Data has been saved to product_data.csv')\n"
   ]
  },
  {
   "cell_type": "markdown",
   "id": "672d4ce6-91e4-436a-840e-7ea8b963ef9c",
   "metadata": {},
   "source": [
    "\n",
    "\n",
    "\n",
    "### ***Sample URL:***\n",
    "##### '''https://books.toscrape.com/catalogue/category/books/science_22/index.html'''\n",
    "#### Note: E-com websites like Amazon, Flipkart are secured and does not allow to webscrap. As we use a simple website to test the programme."
   ]
  },
  {
   "cell_type": "code",
   "execution_count": null,
   "id": "f1401cf1-51ef-44ad-9d4a-893b7a58f778",
   "metadata": {},
   "outputs": [],
   "source": []
  }
 ],
 "metadata": {
  "kernelspec": {
   "display_name": "Python 3 (ipykernel)",
   "language": "python",
   "name": "python3"
  },
  "language_info": {
   "codemirror_mode": {
    "name": "ipython",
    "version": 3
   },
   "file_extension": ".py",
   "mimetype": "text/x-python",
   "name": "python",
   "nbconvert_exporter": "python",
   "pygments_lexer": "ipython3",
   "version": "3.12.4"
  }
 },
 "nbformat": 4,
 "nbformat_minor": 5
}
